{
    "nbformat_minor": 1, 
    "cells": [
        {
            "source": "# PART 2 of 3. In this notebook, using a real world example, I detail how to estimate price elasticity of demand and revenue elasticity.", 
            "cell_type": "markdown", 
            "metadata": {}
        }, 
        {
            "source": "In this use case, we will examine price elasticity for a regional retailer with 219 locations. The type of retailer isn't important. It could be a convenience store, a restaurant or coffee shop. Whatever the business of the retailer, their data should look basically the same.\n\nThe success of a retailer depends on several factors. One, is management and management decisions. Pricing, for example, is 100% controllable by management. Environmental factors surrounding the store are also very important and typically not very controllable. For example, a retailer will typically do better if the people living around the store make a bunch of money.\n\nOur data set in this exercise is a combination of controllable and non-controllable factors. The controllable factor is price. We also have numerous non-controllable environmental factors.\n\nOur goal in this exercise is to better understand the relationship between price, quantity and revenue. We achieve this goal by estimating the price elasticity of demand and the price elasticity of revenue.", 
            "cell_type": "markdown", 
            "metadata": {}
        }, 
        {
            "source": "# Import data and data transformations", 
            "cell_type": "markdown", 
            "metadata": {}
        }, 
        {
            "source": "First, let's bring in the python libraries we will need in this exercise.", 
            "cell_type": "markdown", 
            "metadata": {}
        }, 
        {
            "source": "\nimport sys\nimport types\nimport statsmodels.api as sm\nimport pandas as pd\nimport numpy as np\nfrom botocore.client import Config\nimport ibm_boto3\n\ndef __iter__(self): return 0\n\n!pip install plotly --upgrade\nimport plotly\n#PUT YOUR PLOTLY CREDENTIALS HERE\nplotly.tools.set_credentials_file(username='XXXXXXX', api_key='XXXXXXX')\nimport plotly.plotly as py\nimport plotly.graph_objs as go", 
            "cell_type": "code", 
            "metadata": {}, 
            "outputs": [], 
            "execution_count": null
        }, 
        {
            "source": "The next step is to upload the pricing data into object storage. To do this, click on the data icon (it is the one with two 1's and two 0's) in the northeast corner of the Watson Studio interface.", 
            "cell_type": "markdown", 
            "metadata": {}
        }, 
        {
            "source": "Next, on the \"Files\" tab click on \"Browse\" where it says, \"Drop your file here or browse your files to add a new file\".\n\nFrom there, navigate to our data set \"RETAIL_DATA.csv\" and upload it to the cloud.\n\nOnce the file is uploaded it should appear in the data tab.\n\n", 
            "cell_type": "markdown", 
            "metadata": {}
        }, 
        {
            "source": "Once the file is loaded into object storage, \u00a0from the drop-down menu, select insert credentials.\n\nAfter this is complete, you should a cell should be created that looks like this.\n", 
            "cell_type": "markdown", 
            "metadata": {}
        }, 
        {
            "source": "\n# @hidden_cell\n# The following code contains the credentials for a file in your IBM Cloud Object Storage.\n# You might want to remove those credentials before you share your notebook.\ncredentials_1 = {\n    'IBM_API_KEY_ID': 'XXXXXXX',\n    'IAM_SERVICE_ID': 'XXXXXXX',\n    'ENDPOINT': 'XXXXXXX',\n    'IBM_AUTH_ENDPOINT': 'XXXXXXX',\n    'BUCKET': 'XXXXXXX',\n    'FILE': 'RETAIL_DATA.csv'\n}\n", 
            "cell_type": "code", 
            "metadata": {}, 
            "outputs": [], 
            "execution_count": null
        }, 
        {
            "source": "The next snippet of code will convert the file you just uploaded to object storage into a pandas data frame. Replace the credentials below with the credentials you inserted in the cell above.", 
            "cell_type": "markdown", 
            "metadata": {}
        }, 
        {
            "source": "\nimport sys\nimport types\nimport pandas as pd\nfrom ibm_botocore.client import Config\nimport ibm_boto3\n\ndef __iter__(self): return 0\n\n# @hidden_cell\n# The following code accesses a file in your IBM Cloud Object Storage. It includes your credentials.\n# You might want to remove those credentials before you share your notebook.\nclient_e2f5521e5ce34913a7133599cf5a489b = ibm_boto3.client(service_name='s3',\n    ibm_api_key_id='XXXXXXX',\n    ibm_auth_endpoint=\"XXXXXXX\",\n    config=Config(signature_version='oauth'),\n    endpoint_url='XXXXXXX')\n\nbody = client_e2f5521e5ce34913a7133599cf5a489b.get_object(Bucket='XXXXXXX',Key='RETAIL_DATA.csv')['Body']\n# add missing __iter__ method, so pandas accepts body as file-like object\nif not hasattr(body, \"__iter__\"): body.__iter__ = types.MethodType( __iter__, body )\n\ndf_retail = pd.read_csv(body)\ndf_retail.head()\n\n", 
            "cell_type": "code", 
            "metadata": {}, 
            "outputs": [], 
            "execution_count": null
        }, 
        {
            "source": "The first few rows of the data set should appear above.\n\nHere is a definition of each field.\n\nSTORE_ID\u200a-\u200ais a unique id specific to each retail outlet\n\nPERCENTAGE_OF_RENTERS is the percentage of households surrounding the store that rent their housing.\n\nPERCENTAGE_OF_CHILDREN is the percentage of households surrounding the store that have children.\n\nAVERAGE_INCOME is the average annual income of the households surrounding the store.\n\nAVERAGE_AGE_IN_YEARS is the average age of the head of household in the vicinity of the retail outlet.\n\nAVERAGE_LENGTH_OF_RESIDENCE is an average of the time individuals surrounding the retail outlet have lived at their current address.\n\nPERCENT_SPEAKING_SPANISH is the percentage of households surrounding the store that speak Spanish\n\nPRICE is the average price across multiple items sold at the retail outlet.\n\nQUANTITY is the number of items sold by the retail outlet in the last year.\n\nREVENUE is the total revenue for the store in the last year.\n\nOur goal in this exercise is to calculate the price elasticity of demand and the price elasticity of revenue. (Please look at the first notebook in this series to understand these terms.) This actually isn't that hard. To estimate an elasticity, you can use a standard ordinary least squares regression and natural log (base e) transformed variables.\n\nThe first step is to take the natural log each variable. The cell below does this.  Note the new variables created at the end of the DF.", 
            "cell_type": "markdown", 
            "metadata": {}
        }, 
        {
            "source": "df_retail['LN_PRICE'] = np.log((df_retail.PRICE))\ndf_retail['LN_REVENUE'] = np.log((df_retail.REVENUE))\ndf_retail['LN_QUANTITY'] = np.log((df_retail.QUANTITY))\ndf_retail['LN_INCOME'] = np.log((df_retail.AVERAGE_INCOME))\ndf_retail['LN_AVERAGE_AGE_IN_YEARS'] = np.log((df_retail.AVERAGE_AGE_IN_YEARS))\ndf_retail['LN_AVERAGE_LENGTH_OF_RESIDENCE'] = np.log((df_retail.AVERAGE_LENGTH_OF_RESIDENCE))\ndf_retail['LN_PERCENT_SPEAKING_SPANISH'] = np.log((df_retail.PERCENT_SPEAKING_SPANISH))\ndf_retail['LN_PERCENT_HAVING_CHILDREN'] = np.log((df_retail.PERCENT_HAVING_CHILDREN))\ndf_retail['LN_PERCENTAGE_OF RENTERS'] = np.log((df_retail.PERCENTAGE_OF_RENTERS))\n\ndf_retail.head()\n", 
            "cell_type": "code", 
            "metadata": {}, 
            "outputs": [], 
            "execution_count": null
        }, 
        {
            "source": "# Build the Model", 
            "cell_type": "markdown", 
            "metadata": {}
        }, 
        {
            "source": "Now, let's build an ordinary least squares regression using the log transformed variables.\n\nDefine your independent and dependent variables with the following code cell. \n\nNote that ONLY variables that are statistically significant are included.", 
            "cell_type": "markdown", 
            "metadata": {}
        }, 
        {
            "source": "independentx = df_retail[['LN_PRICE','LN_PERCENTAGE_OF RENTERS','LN_PERCENT_HAVING_CHILDREN','LN_INCOME',\n                          'LN_PERCENT_SPEAKING_SPANISH']]\nindependent = sm.add_constant(independentx, prepend=False)\ndependent=df_retail['LN_QUANTITY']", 
            "cell_type": "code", 
            "metadata": {}, 
            "outputs": [], 
            "execution_count": null
        }, 
        {
            "source": "The next few cells run the OLS regression", 
            "cell_type": "markdown", 
            "metadata": {}
        }, 
        {
            "source": "mod = sm.OLS(dependent, independent)", 
            "cell_type": "code", 
            "metadata": {}, 
            "outputs": [], 
            "execution_count": null
        }, 
        {
            "source": "res = mod.fit()", 
            "cell_type": "code", 
            "metadata": {}, 
            "outputs": [], 
            "execution_count": null
        }, 
        {
            "source": "print(res.summary())", 
            "cell_type": "code", 
            "metadata": {}, 
            "outputs": [], 
            "execution_count": null
        }, 
        {
            "source": "# Interpreting the OLS Regression Coefficients", 
            "cell_type": "markdown", 
            "metadata": {}
        }, 
        {
            "source": "\nSo, the price elasticity of demand is -.64. This comes from the ANOVA table above and is the estimated coefficient of LN_PRICE regressed on LN_QUANTITY. \n\nThis means that a 1% increase in price will lower quantity sold by\u00a0.64%. \n\nThe other coefficients can be interpreted in a similar manner. \n\nA 1% increase in the average income of people around a store will increase the quantity sold by\u00a0.55%.\n\n", 
            "cell_type": "markdown", 
            "metadata": {}
        }, 
        {
            "source": "# Creating a Demand Curve", 
            "cell_type": "markdown", 
            "metadata": {}
        }, 
        {
            "source": "Now, let's make a demand curve. To do this, we will need to build a demand schedule using the predicted quantity at various prices based on our OLS regression model.\n\nFirst, let's summarize the variables other than price that are significant in the model. We will take the average and then evaluate the relationship between price and quantity when the other variables are at their mean.", 
            "cell_type": "markdown", 
            "metadata": {}
        }, 
        {
            "source": "df_retail['chachacha']=1\nwookie = df_retail.groupby(['chachacha'])['PERCENTAGE_OF_RENTERS', 'PERCENT_HAVING_CHILDREN','AVERAGE_INCOME','PERCENT_SPEAKING_SPANISH'].mean()\n\nwookie.reset_index(level=0, inplace=True)\nwookie.head()\n\n\n\n", 
            "cell_type": "code", 
            "metadata": {}, 
            "outputs": [], 
            "execution_count": null
        }, 
        {
            "source": "Next, we will create an array of prices and then convert the list to a pandas data frame.", 
            "cell_type": "markdown", 
            "metadata": {}
        }, 
        {
            "source": "#create an array of prices\nprice = [1.50,1.75,2.0,2.25,2.50,2.75,3.0,3.25,3.50,3.75,4.0,4.25,4.50,4.75,5.0,5.25,5.50,5.75,6.0,6.25,6.50,6.75,\n         7.0,7.25,7.5,7.75,8.0,8.25,8.50,8.75,9.0,9.25,9.50,9.75,10.0,10.25,10.50,10.75,11.0,11.25,11.50,11.75,12.0]\ndf_price=pd.DataFrame(price)\ndf_price.columns = ['PRICE']\ndf_price['chachacha']=1\n", 
            "cell_type": "code", 
            "metadata": {}, 
            "outputs": [], 
            "execution_count": null
        }, 
        {
            "source": "Then, merge the average value for the non-price variables to the prices we constructed above and calculate the log of our variables.", 
            "cell_type": "markdown", 
            "metadata": {}
        }, 
        {
            "source": "#join the array of prices to the average values of the other independent variables.\ndf_price =df_price.merge(wookie, on=['chachacha'], how='inner')\n\n#Create Log Transformed Variables\ndf_price['LN_PRICE'] = np.log((df_price.PRICE))\ndf_price['LN_INCOME'] = np.log((df_price.AVERAGE_INCOME))\ndf_price['LN_PERCENT_SPEAKING_SPANISH'] = np.log((df_price.PERCENT_SPEAKING_SPANISH))\ndf_price['LN_PERCENT_HAVING_CHILDREN'] = np.log((df_price.PERCENT_HAVING_CHILDREN))\ndf_price['LN_PERCENTAGE_OF RENTERS'] = np.log((df_price.PERCENTAGE_OF_RENTERS))\ndf_price['const']=1\n\ndf_price.head()\n\n\n", 
            "cell_type": "code", 
            "metadata": {}, 
            "outputs": [], 
            "execution_count": null
        }, 
        {
            "source": "Now, we can use the input variables we manufactured in the previous few lines of code and our model to predict quantity at each price point. The end result will be a demand schedule.", 
            "cell_type": "markdown", 
            "metadata": {}
        }, 
        {
            "source": "#create our scoring data set.\nscoring= df_price[['LN_PRICE','LN_PERCENTAGE_OF RENTERS','LN_PERCENT_HAVING_CHILDREN','LN_INCOME',\n                          'LN_PERCENT_SPEAKING_SPANISH','const']]\n#score the scoring data set\nln_q_hat=pd.DataFrame(res.predict(scoring))\n#name the columns correctly\nln_q_hat.columns = ['LN_Q_HAT']\n#combine ln of price and ln of predicted q into a new data frame\ndf_ce_demand = pd.concat([scoring['LN_PRICE'], ln_q_hat], axis=1)\n\n\n#exponentiate the ln variables to get predicted quantity and price\ndf_ce_demand['Q_HAT']=np.exp(df_ce_demand['LN_Q_HAT'])\ndf_ce_demand['PRICE']=np.exp(df_ce_demand['LN_PRICE'])\n\n#eliminate the ln variables and make the demand schedule.\ndf_ce_demand = df_ce_demand[['Q_HAT','PRICE']]\n\ndf_ce_demand.head()", 
            "cell_type": "code", 
            "metadata": {}, 
            "outputs": [], 
            "execution_count": null
        }, 
        {
            "source": "Bingo! Now we have a demand schedule and we can plot it as a demand curve.\n\n", 
            "cell_type": "markdown", 
            "metadata": {}
        }, 
        {
            "source": "import plotly.plotly as py\nimport plotly.graph_objs as go\n\ntrace = go.Scatter(\n    x = df_ce_demand['PRICE'],\n    y = df_ce_demand['Q_HAT'],\n    mode = 'lines'\n)\n\n\n\nlayout = go.Layout(\n    title='Demand Curve',\n    xaxis=dict(\n        title='Price',\n        titlefont=dict(\n            family='Courier New, monospace',\n            size=18,\n            color='#7f7f7f'\n        )\n    ),\n    yaxis=dict(\n        title='Quantity',\n        titlefont=dict(\n            family='Courier New, monospace',\n            size=18,\n            color='#7f7f7f'\n        )\n    )\n)\n    \ndata=[trace]  \nfig = go.Figure(data=data, layout=layout)\n\n#plot_url = py.plot(fig, filename='styling-names')\npy.iplot(fig, filename='shapes-lines')", 
            "cell_type": "code", 
            "metadata": {}, 
            "outputs": [], 
            "execution_count": null
        }, 
        {
            "source": "Wait a minute! That's not linear! Nope, it isn't. This a variation of the demand curves we messed around with in part 1 of our exercise. This is what we call a constant elasticity demand curve. The elasticity is the same, at all points. \n\nRemember in our earlier discussion that elasticity was different at each price point of the demand curve. With this demand curve, elasticity is the same at all the price points. It still shows the relationship between price and quantity. \n\nFor example, at a price of 6 dollars, our firm can sell about 75,000 units at each store.\n\n\nIf you wanted a linear demand curve, you can definitely get there. You would regress price on quantity (instead of ln of price on ln of quantity). Of course, if you built your model this way, the coefficient wouldn't be an elasticity.", 
            "cell_type": "markdown", 
            "metadata": {}
        }, 
        {
            "source": "# Estimate Price Elasticity of Revenue", 
            "cell_type": "markdown", 
            "metadata": {}
        }, 
        {
            "source": "Estimating the price elasticity of revenue follows a similar process. The difference is we will use the natural log of revenue as a dependent variable instead of the natural log of quantity.", 
            "cell_type": "markdown", 
            "metadata": {}
        }, 
        {
            "source": "independentx = df_retail[['LN_PRICE','LN_PERCENTAGE_OF RENTERS','LN_PERCENT_HAVING_CHILDREN','LN_INCOME',\n                          'LN_PERCENT_SPEAKING_SPANISH']]\nindependent = sm.add_constant(independentx, prepend=False)\ndependent=df_retail['LN_REVENUE']", 
            "cell_type": "code", 
            "metadata": {}, 
            "outputs": [], 
            "execution_count": null
        }, 
        {
            "source": "mod = sm.OLS(dependent, independent)", 
            "cell_type": "code", 
            "metadata": {}, 
            "outputs": [], 
            "execution_count": null
        }, 
        {
            "source": "res = mod.fit()", 
            "cell_type": "code", 
            "metadata": {}, 
            "outputs": [], 
            "execution_count": null
        }, 
        {
            "source": "print(res.summary())", 
            "cell_type": "code", 
            "metadata": {}, 
            "outputs": [], 
            "execution_count": null
        }, 
        {
            "source": "The regression results suggest that price elasticity of revenue is\u00a0.358. This means that a 1% increase in price will lead to a\u00a0.358% increase in revenue. In other words, this firm would make more revenue if it increased prices.\n\nThere are few important caveats that I should probably mention.\n\nOne, this is a point estimate. That is a fancy way of saying that you shouldn't get too crazy. If you increase prices by 1% you probably will increase revenue by\u00a0.35%. However, if you increase prices by 100%, you probably would not realize a 35% increase in revenue. Baked into the model is an established historical relationship between your customers and your prices. If you do something that is way outside of the historical norm, don't expect the model to be predictive.\n\nTwo, it is important to understand this elasticity is an average across all stores. The price elasticity of revenue is\u00a0.358, on average. There are 291 stores in the data set. Some probably have an elasticity greater than\u00a0.35. Others probably have an elasticity that is less than\u00a0.35. In other words, if you increase prices by 3% across the board, on average, you will realize a 1.05% increase in revenue. This is an average. Some stores will realize more than 1.05%. Others will realize less than 1.05%. A 3% increase in prices may even cause some stores to lose revenue.\n\nWhat if you could tailor the price increase for each store? \n\nThat is, increase prices by an average of 3%, but give some stores a higher bump in prices than others. You could even decrease prices in some stores if it makes sense. Tailoring the price increase to each store based on their specific market, will lead to an even greater increase in revenue. For example, you can raise prices by 3% on average and get an increase in revenue greater than 1.05%.\n\n\nThere are many ways to accomplish this goal. In the third part of this exercise, we will examine a relatively simple and straight forward way to make a market-based pricing decision for each of our 291 stores.\n", 
            "cell_type": "markdown", 
            "metadata": {}
        }, 
        {
            "source": "", 
            "cell_type": "code", 
            "metadata": {}, 
            "outputs": [], 
            "execution_count": null
        }, 
        {
            "source": "", 
            "cell_type": "code", 
            "metadata": {}, 
            "outputs": [], 
            "execution_count": null
        }
    ], 
    "metadata": {
        "kernelspec": {
            "display_name": "Python 3.5", 
            "name": "python3", 
            "language": "python"
        }, 
        "language_info": {
            "mimetype": "text/x-python", 
            "nbconvert_exporter": "python", 
            "version": "3.5.5", 
            "name": "python", 
            "pygments_lexer": "ipython3", 
            "file_extension": ".py", 
            "codemirror_mode": {
                "version": 3, 
                "name": "ipython"
            }
        }
    }, 
    "nbformat": 4
}