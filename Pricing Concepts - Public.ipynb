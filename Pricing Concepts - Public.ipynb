{
    "nbformat_minor": 1, 
    "cells": [
        {
            "source": "# PART 1 of 3.  In this first notebook, I introduce the concept of price, quanitity, revenue, demand, price elasticity of demand and revenue elasticity.", 
            "cell_type": "markdown", 
            "metadata": {}
        }, 
        {
            "source": "\nIf you took economics in school, you'll probably remember drawing a bunch of supply and demand curves. Hopefully you'll remember the elegance of equilibriums and optimal spaces where things seemed to fit \"just right\". (If you are not a dork like me and remember econ 101 as a series of formulas you had to memorize, that's ok too\u00a0:)).\n\nYou'll probably also remember something called elasticity. Elasticity is an integral part of price theory, but also has tons of other applications. In this notebook we walk through the basic concepts associated with pricing and price elasticity.\n\nNote that in this exercise I am using a python Jupyter notebook inside Watson Studio, from IBM. For my visualizations I am using Plotly. You'll need to get a free Watson Studio account. Also, you'll need to get a free Plotly account to recreate these charts.\n\nBefore we get started, lets import some libraries.", 
            "cell_type": "markdown", 
            "metadata": {}
        }, 
        {
            "source": "import sys\nimport types\nimport pandas as pd \n!pip install plotly --upgrade\nimport plotly\n#PUT YOUR PLOTLY CREDENTIALS HERE\nplotly.tools.set_credentials_file(username='XXXXXXX', api_key='XXXXXXX')\nimport plotly.plotly as py\nimport plotly.graph_objs as go\n\n\nimport statsmodels.api as sm\n\nimport numpy as np\nfrom pandas import Series, DataFrame, Index\nfrom IPython.display import Image\n\n", 
            "cell_type": "code", 
            "metadata": {}, 
            "outputs": [], 
            "execution_count": null
        }, 
        {
            "source": "Next, let's create a demand curve.\n", 
            "cell_type": "markdown", 
            "metadata": {}
        }, 
        {
            "source": "\ntrace = go.Scatter(\n    x = [1,2,3,4,5,6,6.5,7,8,9,10],\n    y = [100,90,80,70,60,50,45,40,30,20,10],\n    mode = 'lines'\n)\n\n\n\nlayout = go.Layout(\n    title='Demand Curve',\n    xaxis=dict(\n        title='Price',\n        titlefont=dict(\n            family='Courier New, monospace',\n            size=18,\n            color='#7f7f7f'\n        )\n    ),\n    yaxis=dict(\n        title='Quantity',\n        titlefont=dict(\n            family='Courier New, monospace',\n            size=18,\n            color='#7f7f7f'\n        )\n    )\n)\n    \ndata=[trace]  \nfig = go.Figure(data=data, layout=layout)\n\n#plot_url = py.plot(fig, filename='styling-names')\npy.iplot(fig, filename='shapes-lines')\n\n    \n   ", 
            "cell_type": "code", 
            "metadata": {}, 
            "outputs": [], 
            "execution_count": null
        }, 
        {
            "source": "A demand curve reflects the relationship between price and quantity. All companies face demand curves. Whether you are a nine-year-old selling lemonade in the front yard, or GM selling Cadillacs in Shanghai, you have customers and those customers will buy a certain number of items based on the price you charge. If you lower the price, you will sell more. If you raise the price you will sell less. \n\nThis simple fact is called the law of demand.\n\nNote, that our demand curve has quantity on the vertical axis and price on the horizontal access. This is common in most graduate-level economics text books. Undergraduate level text books are usually the opposite (price is on the vertical axis). I know that doesn't make any sense, but we'll save a discussion for why this is the case for another day.\n\nLet's look specifically at the demand curve we just drew. Based on the relationship between price and quantity, if the firm charges one dollar it will sell 100 units. At a price of 10 dollars, it will sell 10 units and at a price of 6 dollars it will sell 50 units.\n\nOf course, there are a bunch of other options. You can easily see them in a demand schedule. This is just the data underlying a demand curve. Let's take a look at our schedule. \n\nAgain, a demand schedule is just a list detailing the number of units you can sell at different prices.\n\n", 
            "cell_type": "markdown", 
            "metadata": {}
        }, 
        {
            "source": "d = {'price': [1,2,3,4,5,6,6.5,7,8,9,10], 'quantity': [100,90,80,70,60,50,45,40,30,20,10]}\ndf_demand_schedule= pd.DataFrame(data=d)\n\ndf_demand_schedule", 
            "cell_type": "code", 
            "metadata": {}, 
            "outputs": [], 
            "execution_count": null
        }, 
        {
            "source": "Price elasticity of demand is defined as the percentage change in quantity divided by the percentage change in price. It is a unitless number that details the price sensitivity at a particular point on the demand curve. Note that elasticity of demand will vary as you move up and down a traditional demand curve. For example, on the curve above the price elasticity of demand when price is 2 dollars differs from the price elasticity of demand when the price is 8 dollars. I will show this graphically in just a second.\n\nNote that there is also something called a constant elasticity demand curve where elasticity is constant and doesn't change from point to point. Put that aside for the moment. We'll get back to constant elasticity demand curves in part two of our exercise.\n\nThis is how you calculate the price elasticity of demand.\n\n(%change in Quantity)/(%change in Price)\nor\n((Q2-Q1)/Q1)/(P2-P1)/P1)\n\nNote that the equation above will always be a negative number. If you increase (decrease) price, quantity will always decrease (increase). Sometimes you'll see the equation like this. -1*(((Q2-Q1)/Q1)/(P2-P1)/P1))\n\nThe -1 at the front of the equation just makes it positive. In this exercise, we will just let it be a negative number.\n\nIn advanced studies of economics, the price elasticity of demand is almost always expressed as a derivative (calculus).\n\n(dQ/dP) * (P1/Q1)\n\nLet's add elasticity to our demand schedule, then look at it visually.", 
            "cell_type": "markdown", 
            "metadata": {}
        }, 
        {
            "source": "df_demand_schedule['Price_Elasticity_of_Demand']=(df_demand_schedule.quantity.pct_change() / df_demand_schedule.price.pct_change())\ndf_demand_schedule", 
            "cell_type": "code", 
            "metadata": {}, 
            "outputs": [], 
            "execution_count": null
        }, 
        {
            "source": "x1=df_demand_schedule['price']\ny1=df_demand_schedule['quantity']\nz1=df_demand_schedule['Price_Elasticity_of_Demand']\n\ntrace1 = go.Scatter(\n    x=x1,\n    y=y1,\n    name='Demand Curve'\n)\ntrace2 = go.Scatter(\n    x=x1,\n    y=z1,\n    name='Elasticity',\n    yaxis='y2'\n)\ndata = [trace1, trace2]\nlayout = go.Layout(\n    title='Price Elasticity of Demand and the Demand Schedule',\n    yaxis=dict(\n        title='Quantity'\n    ),\n    yaxis2=dict(\n        title='Price Elasticity of Demand',\n        titlefont=dict(\n            color='rgb(148, 103, 189)'\n        ),\n        tickfont=dict(\n            color='rgb(148, 103, 189)'\n        ),\n        overlaying='y',\n        side='right'\n    ),\n        xaxis=dict(\n        title='Price',\n        titlefont=dict(\n            family='Courier New, monospace',\n            size=18,\n            color='#7f7f7f'\n        )\n))\nfig = go.Figure(data=data, layout=layout)\nplot_url = py.plot(fig, filename='multiple-axes-double')\npy.iplot(fig, filename='multiple-axes-double')", 
            "cell_type": "code", 
            "metadata": {}, 
            "outputs": [], 
            "execution_count": null
        }, 
        {
            "source": "Note that when the price elasticity of demand is greater than -1 a 1% increase in price will lower quantity by less than 1%.   When the price elasticity of demand is less than -1, a 1% increase in price will lead to an greater than 1% decrease in quantity. When it is equal to -1 it is unitary elastic. This means a 1% increase in price will lead to a 1% decrease in quantity.", 
            "cell_type": "markdown", 
            "metadata": {}
        }, 
        {
            "source": "Note that when the price elasticity of demand is greater than -1 a 1% increase in price will lower quantity by less than 1%. When the price elasticity of demand is less than -1, a 1% increase in price will lead to a greater than 1% decrease in quantity. When it is equal to -1 it is unitary elastic. This means a 1% increase in price will lead to a 1% decrease in quantity.\n\nAnother metric that is critically important to a firm is revenue. Revenue is simply (price*quantity).\n\nTypically, whether you are GM or the 9-year-old with a lemonade stand, you'll want to choose the price that maximizes revenue or profit.\n\nPrice elasticity of revenue is another important metric. It is similar to the price elasticity of demand and is defined as the percentage change in revenue divided by the percentage change in price.\n\nThe price elasticity of revenue can be calculated according to following formula.\n\n(%change in Revenue)/(%change in Price)\n\nor\n\n((R2-R1)/R1)/(P2-P1)/P1)\n\nIn advanced studies of economics, the price elasticity of revenue is almost always expressed as a derivative (calculus).\n\n(dR/dP) * (P1/R1)\n\nNow, that we have defined revenue and the price elasticity of revenue, let's add them to our to our demand schedule", 
            "cell_type": "markdown", 
            "metadata": {}
        }, 
        {
            "source": "df_demand_schedule['Revenue']=df_demand_schedule['price']*df_demand_schedule['quantity']\ndf_demand_schedule['Price_Elasticity_of_Revenue']=(df_demand_schedule.Revenue.pct_change() / df_demand_schedule.price.pct_change())\ndf_demand_schedule", 
            "cell_type": "code", 
            "metadata": {}, 
            "outputs": [], 
            "execution_count": null
        }, 
        {
            "source": "Now, Lets plot revenue with demand", 
            "cell_type": "markdown", 
            "metadata": {}
        }, 
        {
            "source": "x1=df_demand_schedule['price']\ny1=df_demand_schedule['quantity']\nz1=df_demand_schedule['Revenue']\n\ntrace1 = go.Scatter(\n    x=x1,\n    y=y1,\n    name='Demand Curve'\n)\ntrace2 = go.Scatter(\n    x=x1,\n    y=z1,\n    name='Revenue',\n    yaxis='y2'\n)\ndata = [trace1, trace2]\nlayout = go.Layout(\n    title='Revenue, Quantity and Price',\n    yaxis=dict(\n        title='Quantity'\n    ),\n    yaxis2=dict(\n        title='Revenue',\n        titlefont=dict(\n            color='rgb(148, 103, 189)'\n        ),\n        tickfont=dict(\n            color='rgb(148, 103, 189)'\n        ),\n        overlaying='y',\n        side='right'\n    ),\n        xaxis=dict(\n        title='Price',\n        titlefont=dict(\n            family='Courier New, monospace',\n            size=18,\n            color='#7f7f7f'\n        )\n))\nfig = go.Figure(data=data, layout=layout)\nplot_url = py.plot(fig, filename='multiple-axes-double')\npy.iplot(fig, filename='multiple-axes-double')", 
            "cell_type": "code", 
            "metadata": {}, 
            "outputs": [], 
            "execution_count": null
        }, 
        {
            "source": "Now, let's plot price elasticity of revenue next to Demand.\n", 
            "cell_type": "markdown", 
            "metadata": {}
        }, 
        {
            "source": "x1=df_demand_schedule['price']\ny1=df_demand_schedule['quantity']\nz1=df_demand_schedule['Price_Elasticity_of_Revenue']\n\ntrace1 = go.Scatter(\n    x=x1,\n    y=y1,\n    name='Demand Curve'\n)\ntrace2 = go.Scatter(\n    x=x1,\n    y=z1,\n    name='Price Elasticity of Revenue',\n    yaxis='y2'\n)\ndata = [trace1, trace2]\nlayout = go.Layout(\n    title='Price Elasticity of Revenue, Quantity and Price',\n    yaxis=dict(\n        title='Quantity'\n    ),\n    yaxis2=dict(\n        title='Price Elasticity of Revenue',\n        titlefont=dict(\n            color='rgb(148, 103, 189)'\n        ),\n        tickfont=dict(\n            color='rgb(148, 103, 189)'\n        ),\n        overlaying='y',\n        side='right'\n    ),\n        xaxis=dict(\n        title='Price',\n        titlefont=dict(\n            family='Courier New, monospace',\n            size=18,\n            color='#7f7f7f'\n        )\n))\nfig = go.Figure(data=data, layout=layout)\nplot_url = py.plot(fig, filename='multiple-axes-double')\npy.iplot(fig, filename='multiple-axes-double')", 
            "cell_type": "code", 
            "metadata": {}, 
            "outputs": [], 
            "execution_count": null
        }, 
        {
            "source": "Price elasticity of revenue is definitely similar, but also a little different than the Price elasticity of demand. \nPrice elasticity of revenue is centered on zero, which in many ways makes it easier to interpret. If revenue elasticity is greater than zero, an increase in price will increase revenue. If it is less than zero, increasing price will lower revenue.\n\nBased on the charts above, you can see that a price between 5 and 6 dollars will maximize revenue. To maximize profit, you'd need to incorporate cost information.\n\nNow that we understand the basic concepts, let's move to real world example.", 
            "cell_type": "markdown", 
            "metadata": {}
        }, 
        {
            "source": "", 
            "cell_type": "code", 
            "metadata": {}, 
            "outputs": [], 
            "execution_count": null
        }
    ], 
    "metadata": {
        "kernelspec": {
            "display_name": "Python 3.5", 
            "name": "python3", 
            "language": "python"
        }, 
        "language_info": {
            "mimetype": "text/x-python", 
            "nbconvert_exporter": "python", 
            "version": "3.5.5", 
            "name": "python", 
            "pygments_lexer": "ipython3", 
            "file_extension": ".py", 
            "codemirror_mode": {
                "version": 3, 
                "name": "ipython"
            }
        }
    }, 
    "nbformat": 4
}